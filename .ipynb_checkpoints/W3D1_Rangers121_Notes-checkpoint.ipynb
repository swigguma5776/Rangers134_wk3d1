{
 "cells": [
  {
   "cell_type": "markdown",
   "metadata": {},
   "source": [
    "# Map, Filter, Reduce, Lambda & Recursion"
   ]
  },
  {
   "cell_type": "markdown",
   "metadata": {},
   "source": [
    "## Tasks Today:\n",
    "\n",
    "1) <b>Lambda Functions</b> <br>\n",
    " &nbsp;&nbsp;&nbsp;&nbsp; a) Syntax <br>\n",
    " &nbsp;&nbsp;&nbsp;&nbsp; b) Saving to a Variable <br>\n",
    " &nbsp;&nbsp;&nbsp;&nbsp; c) Multiple Inputs <br>\n",
    " &nbsp;&nbsp;&nbsp;&nbsp; d) Passing a Lambda into a Function <br>\n",
    " &nbsp;&nbsp;&nbsp;&nbsp; e) Returning a Lambda from a Function <br>\n",
    " &nbsp;&nbsp;&nbsp;&nbsp; f) In-Class Exercise #1 <br>\n",
    "2) <b>Map</b> <br>\n",
    " &nbsp;&nbsp;&nbsp;&nbsp; a) Syntax <br>\n",
    " &nbsp;&nbsp;&nbsp;&nbsp; b) Using Lambda's with Map <br>\n",
    " &nbsp;&nbsp;&nbsp;&nbsp; c) In-Class Exercise #2 <br>\n",
    "3) <b>Filter</b> <br>\n",
    " &nbsp;&nbsp;&nbsp;&nbsp; a) Syntax <br>\n",
    " &nbsp;&nbsp;&nbsp;&nbsp; b) Using Lambda's with Filter <br>\n",
    " &nbsp;&nbsp;&nbsp;&nbsp; c) In-Class Exercise #3 <br>\n",
    "4) <b>Reduce</b> <br>\n",
    " &nbsp;&nbsp;&nbsp;&nbsp; a) Syntax <br>\n",
    " &nbsp;&nbsp;&nbsp;&nbsp; b) Using Lambda's with Reduce <br>\n",
    " &nbsp;&nbsp;&nbsp;&nbsp; c) In-Class Exercise #4 <br>\n",
    "5) <b>Recursion</b> <br>\n",
    " &nbsp;&nbsp;&nbsp;&nbsp; a) Implementing a Base <br>\n",
    " &nbsp;&nbsp;&nbsp;&nbsp; b) Writing a Factorial Function <br>\n",
    " &nbsp;&nbsp;&nbsp;&nbsp; c) In-Class Exercise #5 <br>\n",
    "6) <b>Generators & Iterators</b> <br>\n",
    " &nbsp;&nbsp;&nbsp;&nbsp; a) Yield Keyword <br>\n",
    " &nbsp;&nbsp;&nbsp;&nbsp; b) Inifinite Generator <br>\n",
    " &nbsp;&nbsp;&nbsp;&nbsp; c) In-Class Exercise #6 <br>\n",
    "7) <b>Exercises</b> <br>\n",
    " &nbsp;&nbsp;&nbsp;&nbsp; a) Exercise #1 - Filtering Empty Strings <br>\n",
    " &nbsp;&nbsp;&nbsp;&nbsp; b) Exercise #2 - Sorting with Last Name <br>\n",
    " &nbsp;&nbsp;&nbsp;&nbsp; c) Exercise #3 - Conversion to Farhenheit <br>\n",
    " &nbsp;&nbsp;&nbsp;&nbsp; d) Exercise #4 - Fibonacci Sequence <br>"
   ]
  },
  {
   "cell_type": "markdown",
   "metadata": {},
   "source": [
    "## Lambda Functions <br>\n",
    "<p>Lambda functions... or \"Anonymous Functions\" are referring to inline functions with no name. The keyword lambda denotes the no name function, and executes within a single line. Without saving it to a variable; however, it is not able to be used, unless passed in either as a paramater or within list comprehension.<br>Written as \"(keyword lambda) (one or more inputs) (colon) (function to be executed)\"</p>"
   ]
  },
  {
   "cell_type": "markdown",
   "metadata": {},
   "source": [
    "#### Syntax"
   ]
  },
  {
   "cell_type": "code",
   "execution_count": 2,
   "metadata": {},
   "outputs": [
    {
     "name": "stdout",
     "output_type": "stream",
     "text": [
      "4\n",
      "<function my_function at 0x7fb26d4b5f30>\n",
      "4\n"
     ]
    }
   ],
   "source": [
    "#regular smegular functions utilizing the \"def\" keyword for define aka storing that to memory\n",
    "\n",
    "def my_function(param):\n",
    "    \n",
    "    #if that param was an integer \n",
    "    \n",
    "    return param + 2\n",
    "\n",
    "#using the print here because i want to see my output\n",
    "\n",
    "print(my_function(2))\n",
    "\n",
    "#printing a function without paranthesis just gives you the location in memory\n",
    "print(my_function)\n",
    "\n",
    "\n",
    "#utlizing \"lambda\" we can do the same thing\n",
    "\n",
    "        #def   #passing a param\n",
    "\n",
    "print((lambda param: param + 2)(2))"
   ]
  },
  {
   "cell_type": "markdown",
   "metadata": {},
   "source": [
    "#### Saving to a Variable"
   ]
  },
  {
   "cell_type": "code",
   "execution_count": 4,
   "metadata": {},
   "outputs": [
    {
     "name": "stdout",
     "output_type": "stream",
     "text": [
      "<function <lambda> at 0x7fb26d4b5900>\n",
      "8\n"
     ]
    }
   ],
   "source": [
    "#with a lambda function we DONT need to story to  memory but we CAN if we want\n",
    "\n",
    "my_lambda = lambda num1, num2: num1 + num2 \n",
    "\n",
    "#same as \n",
    "\n",
    "# def my_lambda(num1, num2):\n",
    "#     return num1 + num2\n",
    "\n",
    "print(my_lambda)\n",
    "\n",
    "print(my_lambda(3,5))"
   ]
  },
  {
   "cell_type": "markdown",
   "metadata": {},
   "source": [
    "#### Multiple Inputs"
   ]
  },
  {
   "cell_type": "code",
   "execution_count": 9,
   "metadata": {},
   "outputs": [
    {
     "name": "stdout",
     "output_type": "stream",
     "text": [
      "Hello There Kym\n"
     ]
    }
   ],
   "source": [
    "\n",
    "print((lambda str1, str2: str1.strip() + \" \" + str2.strip())(\"Hello There         \", \"Kym\"))\n",
    "\n",
    "\n",
    "#same as \n",
    "# def str_func(str1, str2):\n",
    "#     return str1 + \" \" + str2"
   ]
  },
  {
   "cell_type": "markdown",
   "metadata": {},
   "source": [
    "#### Passing a Lambda into a Function"
   ]
  },
  {
   "cell_type": "code",
   "execution_count": 17,
   "metadata": {},
   "outputs": [
    {
     "name": "stdout",
     "output_type": "stream",
     "text": [
      "Help on function do_an_operation in module __main__:\n",
      "\n",
      "do_an_operation(func, num)\n",
      "    func is expected to be a lambda function\n",
      "    num is expected to be an integer\n",
      "    the function do_an_operation takes in a function and performs it on num\n",
      "    Michael is a cool dude\n",
      "\n",
      "8\n",
      "0\n"
     ]
    }
   ],
   "source": [
    "\n",
    "                    #1st param    #second param \n",
    "def do_an_operation(func, num):\n",
    "    \n",
    "    #documentation string (doc string) aka a little instruction manual on your function\n",
    "    \n",
    "    \"\"\"\n",
    "    func is expected to be a lambda function\n",
    "    num is expected to be an integer\n",
    "    the function do_an_operation takes in a function and performs it on num\n",
    "    Michael is a cool dude\n",
    "    \"\"\"\n",
    "    \n",
    "    return func(num)\n",
    "\n",
    "help(do_an_operation)\n",
    "\n",
    "\n",
    "#when i call the function im going to give it a lambda \n",
    "\n",
    "                          #1st argument   #2nd argument\n",
    "print(do_an_operation(lambda num: num * 2, 4))\n",
    "print(do_an_operation(lambda num: num // 2, 4))\n",
    "\n",
    "#floor division, rounding down like to the floor \n",
    "\n",
    "#0.999999999 ---> becomes 0 (not rounding, chopping off whats after the decimal)\n",
    "\n",
    "#if we wanted to round we could utilize the built-in funciton round()\n",
    "\n"
   ]
  },
  {
   "cell_type": "code",
   "execution_count": null,
   "metadata": {},
   "outputs": [],
   "source": [
    "#doc strings are a more formal way of telling what your function is doing "
   ]
  },
  {
   "cell_type": "code",
   "execution_count": 13,
   "metadata": {},
   "outputs": [
    {
     "name": "stdout",
     "output_type": "stream",
     "text": [
      "Help on built-in function len in module builtins:\n",
      "\n",
      "len(obj, /)\n",
      "    Return the number of items in a container.\n",
      "\n"
     ]
    }
   ],
   "source": [
    "help(len)"
   ]
  },
  {
   "cell_type": "markdown",
   "metadata": {},
   "source": [
    "#### Returning a Lambda from a Function"
   ]
  },
  {
   "cell_type": "code",
   "execution_count": 19,
   "metadata": {},
   "outputs": [
    {
     "name": "stdout",
     "output_type": "stream",
     "text": [
      "<function return_func.<locals>.multiply at 0x7fb26d4b6200>\n",
      "8\n"
     ]
    }
   ],
   "source": [
    "\n",
    "#a function inside of a function\n",
    "\n",
    "def return_func():\n",
    "    \n",
    "    #function inside of a function (we will use these with decorators)\n",
    "    def multiply(num):\n",
    "        return num * 2\n",
    "    \n",
    "    return multiply \n",
    "\n",
    "\n",
    "#call upon outer function and store to a variable\n",
    "\n",
    "outer_func = return_func()\n",
    "print(outer_func) #outer_func is now the same thing as multiply()\n",
    "\n",
    "print(outer_func(4))"
   ]
  },
  {
   "cell_type": "code",
   "execution_count": 21,
   "metadata": {},
   "outputs": [
    {
     "name": "stdout",
     "output_type": "stream",
     "text": [
      "<function return_lambda.<locals>.<lambda> at 0x7fb26d4b5ea0>\n",
      "8\n"
     ]
    }
   ],
   "source": [
    "#having a lambda function inside of another function \n",
    "\n",
    "\n",
    "def return_lambda():\n",
    "    \n",
    "    return lambda num: num * 2\n",
    "\n",
    "\n",
    "outer_func2 = return_lambda()\n",
    "\n",
    "print(outer_func2)\n",
    "print(outer_func2(4))"
   ]
  },
  {
   "cell_type": "markdown",
   "metadata": {},
   "source": [
    "#### If Statements within Lambdas"
   ]
  },
  {
   "cell_type": "code",
   "execution_count": 22,
   "metadata": {},
   "outputs": [
    {
     "name": "stdout",
     "output_type": "stream",
     "text": [
      "8\n",
      "16\n",
      "10\n"
     ]
    }
   ],
   "source": [
    "#list comprehension \n",
    "\n",
    "#transform        #iteration        #conditional    (TIC)\n",
    "\n",
    "\n",
    "# #iterable\n",
    "# result = []\n",
    "# for num in nums:\n",
    "#     #conditional\n",
    "#     if num < 10:\n",
    "#         #transform\n",
    "#         result.append(num *2)\n",
    "        \n",
    "\n",
    "\n",
    "my_conditional_func = lambda num: num * 2 if num < 10 else num \n",
    "\n",
    "print(my_conditional_func(4))\n",
    "print(my_conditional_func(8))\n",
    "print(my_conditional_func(10))"
   ]
  },
  {
   "cell_type": "code",
   "execution_count": 24,
   "metadata": {},
   "outputs": [
    {
     "name": "stdout",
     "output_type": "stream",
     "text": [
      "18\n",
      "57\n",
      "29\n"
     ]
    }
   ],
   "source": [
    "#if conditional with multiple conditionals (same format for list comprehension & lambda)\n",
    "\n",
    "my_multi_func = lambda num: num * 2 if num < 10 else (num * 3 if num < 20 else num)\n",
    "\n",
    "\n",
    "print(my_multi_func(9))\n",
    "print(my_multi_func(19))\n",
    "print(my_multi_func(29))"
   ]
  },
  {
   "cell_type": "markdown",
   "metadata": {},
   "source": [
    "#### In-Class Exercise #1 <br>\n",
    "<p>Write an anonymous function that cubes the arguments passed in and assign the anonymous function to a variable 'f'.</p>"
   ]
  },
  {
   "cell_type": "code",
   "execution_count": 28,
   "metadata": {},
   "outputs": [
    {
     "name": "stdout",
     "output_type": "stream",
     "text": [
      "27\n",
      "<function f at 0x7fb26d4b5c60>\n"
     ]
    }
   ],
   "source": [
    "#for extra credit try adding a conditional \n",
    "\n",
    "\n",
    "def f():\n",
    "    return lambda num: num **3 \n",
    "\n",
    "print(f()(3))\n",
    "print(f)"
   ]
  },
  {
   "cell_type": "code",
   "execution_count": 29,
   "metadata": {},
   "outputs": [
    {
     "name": "stdout",
     "output_type": "stream",
     "text": [
      "27\n",
      "<function <lambda> at 0x7fb26d4b6e60>\n"
     ]
    }
   ],
   "source": [
    "ano_fun = lambda f: f*f*f if f <20 else f\n",
    "print(ano_fun(3))\n",
    "\n",
    "print(ano_fun)"
   ]
  },
  {
   "cell_type": "code",
   "execution_count": 27,
   "metadata": {},
   "outputs": [
    {
     "name": "stdout",
     "output_type": "stream",
     "text": [
      "512\n",
      "400\n",
      "10\n"
     ]
    }
   ],
   "source": [
    "my_new_func = lambda num: num ** 3 if num < 10 else (num ** 2 if num > 10 else num)\n",
    "\n",
    "print(my_new_func(8))\n",
    "print(my_new_func(20))\n",
    "print(my_new_func(10))"
   ]
  },
  {
   "cell_type": "markdown",
   "metadata": {},
   "source": [
    "## Map <br>\n",
    "<p>The map function allows you to iterate over an entire list while running a function on each item of the list. This is why the map function works well with lambda's, because it simplifies things and you write less lines of code.<br>The syntax for a map function is \"map(function to be used, list to be used)\"<br>However, you must be careful, as the map function returns a map object, not a list. To turn it into a list we use the list() type conversion.</p>"
   ]
  },
  {
   "cell_type": "markdown",
   "metadata": {},
   "source": [
    "#### Syntax"
   ]
  },
  {
   "cell_type": "code",
   "execution_count": 33,
   "metadata": {},
   "outputs": [
    {
     "name": "stdout",
     "output_type": "stream",
     "text": [
      "[25, 49, 9, 121]\n"
     ]
    }
   ],
   "source": [
    "#map takes in two arguments\n",
    "#1st being the function, 2nd is the iterable (lists, sets, tuples, strings, dictionaries)\n",
    "\n",
    "#defined a functio we want to run over our iterable\n",
    "def squared(num1):\n",
    "    \n",
    "    return num1 ** 2\n",
    "\n",
    "#lets define our iterable\n",
    "nums = [5, 7, 3, 11]\n",
    "\n",
    "#I want to square every # inside my list nums\n",
    "\n",
    "            #1st arg is our function    #2nd arg is our iterable\n",
    "squared_nums = list(map(squared,             nums))\n",
    "print(squared_nums)"
   ]
  },
  {
   "cell_type": "code",
   "execution_count": 35,
   "metadata": {},
   "outputs": [
    {
     "name": "stdout",
     "output_type": "stream",
     "text": [
      "[25, 49, 9, 121]\n"
     ]
    }
   ],
   "source": [
    "#long handed way without using map()\n",
    "\n",
    "squared_nums2 = []\n",
    "\n",
    "for num in nums:\n",
    "    squared_nums2.append(squared(num))\n",
    "    \n",
    "print(squared_nums2)"
   ]
  },
  {
   "cell_type": "code",
   "execution_count": 39,
   "metadata": {},
   "outputs": [
    {
     "name": "stdout",
     "output_type": "stream",
     "text": [
      "[(25, 81), (49, 484), (9, 64), (121, 169)]\n",
      "[25, 49, 9, 121]\n",
      "[81, 484, 64, 169]\n"
     ]
    }
   ],
   "source": [
    "#passing in 2 iterables vs just 1 \n",
    "\n",
    "def more_squared(num1, num2):\n",
    "    \n",
    "    return num1 ** 2, num2 ** 2\n",
    "\n",
    "#lets define our iterable\n",
    "nums = [5, 7, 3, 11]\n",
    "more_nums = [9, 22, 8, 13]\n",
    "\n",
    "squared_nums3 = list(map(more_squared, nums, more_nums))\n",
    "print(squared_nums3)\n",
    "\n",
    "#squared_num3 is a list of tuples \n",
    "#a tuple is an immutable iterable aka it cannot be changed but we can iterate over it \n",
    "\n",
    "#we can use the zip() builtin function to deconstruct a list of tuples into multiple lists \n",
    "square1, square2 = zip(*squared_nums3)\n",
    "\n",
    "print(list(square1))\n",
    "print(list(square2))"
   ]
  },
  {
   "cell_type": "markdown",
   "metadata": {},
   "source": [
    "#### Using Lambda's with Map"
   ]
  },
  {
   "cell_type": "code",
   "execution_count": 41,
   "metadata": {},
   "outputs": [
    {
     "name": "stdout",
     "output_type": "stream",
     "text": [
      "[(25, 81), (49, 484), (9, 64), (121, 169)]\n"
     ]
    }
   ],
   "source": [
    "#do the same dang thing but with our friend the lambda function\n",
    "\n",
    "\n",
    "squared_lambda_nums = list(map(lambda x,y: (x**2,y**2), nums, more_nums ))\n",
    "print(squared_lambda_nums)"
   ]
  },
  {
   "cell_type": "markdown",
   "metadata": {},
   "source": [
    "#### In-Class Exercise #2 <br>\n",
    "<p>Use the map function to double each number and minus it by one in the list by using a lambda function</p>"
   ]
  },
  {
   "cell_type": "code",
   "execution_count": 46,
   "metadata": {},
   "outputs": [
    {
     "name": "stdout",
     "output_type": "stream",
     "text": [
      "[9, 13, 5, 21]\n"
     ]
    }
   ],
   "source": [
    "#function parameters are just rules as to what can go in the function (like that plane boarding line)\n",
    "\n",
    "\n",
    "def my_func(chicago):\n",
    "    \n",
    "    return chicago * 2 - 1 \n",
    "\n",
    "my_lambda_var = lambda chicago: (chicago * 2 - 1)\n",
    "\n",
    "our_nums = list(map(lambda chicago: (chicago * 2 - 1), nums))\n",
    "\n",
    "print(our_nums)"
   ]
  },
  {
   "cell_type": "markdown",
   "metadata": {},
   "source": [
    "## Filter() <br>\n",
    "<p>Filter's are similar to the map function, where you're able to pass a function argument and a list argument and filter out something from the list based on the conditions passed. Similar to the map function, it returns a filter object, so you need to type convert it to a list()</p>"
   ]
  },
  {
   "cell_type": "markdown",
   "metadata": {},
   "source": [
    "#### Syntax"
   ]
  },
  {
   "cell_type": "code",
   "execution_count": 47,
   "metadata": {},
   "outputs": [
    {
     "name": "stdout",
     "output_type": "stream",
     "text": [
      "[22, 13]\n"
     ]
    }
   ],
   "source": [
    "#filter allows us to create rules to then filter out data from our iterables\n",
    "\n",
    "\n",
    "#regular function\n",
    "\n",
    "def even_digits(num1):\n",
    "    \n",
    "    if len(str(num1)) % 2 == 0:\n",
    "        return True \n",
    "    \n",
    "    else:\n",
    "        return False\n",
    "    \n",
    "    #one liner boolean return statement\n",
    "#     return if len(str(num1)) % 2 == 0 \n",
    "\n",
    "\n",
    "#filter() like map() takes in 2+ arguments\n",
    "#1st is the function\n",
    "#2nd+ is iterable \n",
    "\n",
    "\n",
    "more_nums = [9, 22, 8, 13]\n",
    "\n",
    "\n",
    "my_filtered_list = list(filter(even_digits, more_nums))\n",
    "print(my_filtered_list)"
   ]
  },
  {
   "cell_type": "code",
   "execution_count": 58,
   "metadata": {},
   "outputs": [
    {
     "name": "stdout",
     "output_type": "stream",
     "text": [
      "['Chicago', 'Cincinatti', 'New Orleans', 'Savanah', 'Boston', 'Houston', 'Nashville']\n"
     ]
    }
   ],
   "source": [
    "#filtering through a list of names \n",
    "\n",
    "\n",
    "city_list = ['Chicago', 'Cincinatti', 'New Orleans', 'Savanah', 'Boston', 'Houston', 'Nashville', '    ']\n",
    "\n",
    "#our cool rule is cities that are longer than 10 letters\n",
    "\n",
    "def ten_letters(city):\n",
    "    \n",
    "    return len(city.split()) > 0\n",
    "\n",
    "\n",
    "ten_letter_cities = list(filter(ten_letters, city_list))\n",
    "\n",
    "print(ten_letter_cities)\n",
    "\n",
    "\n"
   ]
  },
  {
   "cell_type": "markdown",
   "metadata": {},
   "source": [
    "#### Using Lambda's with Filter()"
   ]
  },
  {
   "cell_type": "code",
   "execution_count": 53,
   "metadata": {},
   "outputs": [
    {
     "name": "stdout",
     "output_type": "stream",
     "text": [
      "['Cincinatti', 'New Orleans']\n",
      "['Cincinatti', 'New Orleans']\n"
     ]
    }
   ],
   "source": [
    "print(list(filter(lambda city: True if len(city) >= 10 else False, city_list)))\n",
    "\n",
    "#little shorter way\n",
    "print(list(filter(lambda city: len(city) >= 10, city_list)))"
   ]
  },
  {
   "cell_type": "markdown",
   "metadata": {},
   "source": [
    "#### In-Class Exercise #3 <br>\n",
    "<p>Filter out all the numbers that are below the mean of the list.<br><b>Hint: Import the 'statistics' module</b></p>"
   ]
  },
  {
   "cell_type": "code",
   "execution_count": 2,
   "metadata": {},
   "outputs": [
    {
     "name": "stdout",
     "output_type": "stream",
     "text": [
      "13\n"
     ]
    }
   ],
   "source": [
    "# import * from statistics\n",
    "\n",
    "from statistics import mean \n",
    "\n",
    "more_nums = [9, 22, 8, 13]\n",
    "\n",
    "print(mean(more_nums))\n",
    "\n",
    "\n"
   ]
  },
  {
   "cell_type": "code",
   "execution_count": 60,
   "metadata": {
    "scrolled": true
   },
   "outputs": [
    {
     "name": "stdout",
     "output_type": "stream",
     "text": [
      "[9, 8]\n"
     ]
    }
   ],
   "source": [
    "print(list(filter(lambda nums: True if nums < (mean(more_nums)) else False, more_nums)))"
   ]
  },
  {
   "cell_type": "code",
   "execution_count": 5,
   "metadata": {},
   "outputs": [
    {
     "name": "stdout",
     "output_type": "stream",
     "text": [
      "[22]\n",
      "[22]\n",
      "[22]\n"
     ]
    }
   ],
   "source": [
    "from statistics import mean \n",
    "\n",
    "#so because filter() is a builtin function name we shouldn't use it for a variable name \n",
    "\n",
    "filter_mean = mean([12, 18, 14, 16])\n",
    "\n",
    "# print(filter_mean)\n",
    "\n",
    "                #this lambda function returns a true or false\n",
    "print(list(filter(lambda num: num >= filter_mean, more_nums)))\n",
    "\n",
    "#lambda num is the same as below\n",
    "def mean_func(num):\n",
    "    \n",
    "    if num >= filter_mean:\n",
    "        return True\n",
    "    else:\n",
    "        return False\n",
    "\n",
    "\n",
    "#do this longhanded without filter\n",
    "\n",
    "filtered_list = []\n",
    "\n",
    "#for loop without calling upon a function\n",
    "for num in more_nums:\n",
    "    if num >= filter_mean:\n",
    "        filtered_list.append(num)\n",
    "\n",
    "filtered_list2 = []\n",
    "        \n",
    "    \n",
    "#print(list(filter(lambda num: num >= filter_mean, more_nums)))\n",
    "#for loop with calling a function\n",
    "\n",
    "for num in more_nums:\n",
    "    if mean_func(num):\n",
    "        filtered_list2.append(num)\n",
    "        \n",
    "print(filtered_list)\n",
    "print(filtered_list2)"
   ]
  },
  {
   "cell_type": "markdown",
   "metadata": {},
   "source": [
    "## Reduce() <br>\n",
    "<p>Be very careful when using this function, as of Python 3 it's been moved to the 'functools' library and no longer is a built-in function.<br>The creator of Python himself, says to just use a for loop instead.</p>"
   ]
  },
  {
   "cell_type": "markdown",
   "metadata": {},
   "source": [
    "#### Syntax"
   ]
  },
  {
   "cell_type": "code",
   "execution_count": 6,
   "metadata": {},
   "outputs": [
    {
     "name": "stdout",
     "output_type": "stream",
     "text": [
      "20592\n"
     ]
    }
   ],
   "source": [
    "#sum() essentially reducing our data from an iterable down to 1 number. \n",
    "\n",
    "from functools import reduce \n",
    "\n",
    "more_nums = [9, 22, 8, 13]\n",
    "\n",
    "#I want to multiple all the nums in more_nums together \n",
    "\n",
    "my_sum = 1 \n",
    "\n",
    "for num in more_nums:\n",
    "    my_sum *= num\n",
    "    \n",
    "print(my_sum)"
   ]
  },
  {
   "cell_type": "code",
   "execution_count": 7,
   "metadata": {},
   "outputs": [
    {
     "name": "stdout",
     "output_type": "stream",
     "text": [
      "20592\n"
     ]
    }
   ],
   "source": [
    "#how could we do the above with the reduce()\n",
    "\n",
    "def multiple(num1, num2):\n",
    "    \n",
    "    return num1 * num2\n",
    "\n",
    "\n",
    "#just like map() & filter() the reduce takes in 2+ arguments\n",
    "#1st is function\n",
    "#2nd+ is iterable \n",
    "\n",
    "\n",
    "print(reduce(multiple, more_nums))"
   ]
  },
  {
   "cell_type": "markdown",
   "metadata": {},
   "source": [
    "#### Using Lambda's with Reduce()"
   ]
  },
  {
   "cell_type": "code",
   "execution_count": 9,
   "metadata": {},
   "outputs": [
    {
     "name": "stdout",
     "output_type": "stream",
     "text": [
      "20592\n"
     ]
    }
   ],
   "source": [
    "print(reduce(lambda num1, num2: num1 * num2, more_nums))"
   ]
  },
  {
   "cell_type": "markdown",
   "metadata": {},
   "source": [
    "#### In-Class Exercise #4 <br>\n",
    "<p>Use the reduce function to multiply the numbers in the list below together with a lambda function.</p>"
   ]
  },
  {
   "cell_type": "code",
   "execution_count": null,
   "metadata": {},
   "outputs": [],
   "source": [
    "#see above \n",
    "\n",
    "print(reduce(lambda num1, num2: num1 * num2, more_nums))"
   ]
  },
  {
   "cell_type": "markdown",
   "metadata": {},
   "source": [
    "## Recursion <br>\n",
    "<p>Recursion means that a function is calling itself, so it contanstly executes until a base case is reached. It will then push the returning values back up the chain until the function is complete. A prime example of recursion is computing factorials... such that 5! (factorial) is 5*4*3*2*1 which equals 120.</p>"
   ]
  },
  {
   "cell_type": "markdown",
   "metadata": {},
   "source": [
    "#### Implementing a Base Case"
   ]
  },
  {
   "cell_type": "code",
   "execution_count": null,
   "metadata": {},
   "outputs": [],
   "source": []
  },
  {
   "cell_type": "markdown",
   "metadata": {},
   "source": [
    "#### Writing a Factorial Function"
   ]
  },
  {
   "cell_type": "code",
   "execution_count": null,
   "metadata": {},
   "outputs": [],
   "source": []
  },
  {
   "cell_type": "markdown",
   "metadata": {},
   "source": [
    "#### In-Class Exercise #5 <br>\n",
    "<p>Write a recursive function that subtracts all numbers to the argument given.</p>"
   ]
  },
  {
   "cell_type": "code",
   "execution_count": null,
   "metadata": {},
   "outputs": [],
   "source": []
  },
  {
   "cell_type": "markdown",
   "metadata": {},
   "source": [
    "## Generators <br>\n",
    "<p>Generators are a type of iterable, like lists or tuples. They do not allow indexing, but they can still be iterated through with for loops. They are created using functions and the yield statement.</p>"
   ]
  },
  {
   "cell_type": "markdown",
   "metadata": {},
   "source": [
    "#### Yield Keyword <br>\n",
    "<p>The yield keyword denotes a generator, it doesn't return so it won't leave the function and reset all variables in the function scope, instead it yields the number back to the caller.</p>"
   ]
  },
  {
   "cell_type": "code",
   "execution_count": 12,
   "metadata": {
    "scrolled": true
   },
   "outputs": [
    {
     "name": "stdout",
     "output_type": "stream",
     "text": [
      "0\n",
      "1\n",
      "2\n",
      "3\n",
      "4\n",
      "5\n",
      "6\n",
      "7\n",
      "8\n",
      "9\n"
     ]
    }
   ],
   "source": [
    "#these look very similar to functions but instead of using the 'return' keyword we use the 'yield' keyword\n",
    "#so yield returns bits of the data in small chunks vs all at once\n",
    "#helps with processing the data & storing it \n",
    "\n",
    "\n",
    "#define a function that emulates the range()\n",
    "#range() takes in 3 arguments, start, stop, step & it iterates through an iterable (list, tuple, etc)\n",
    "\n",
    "\n",
    "                        #default parameter\n",
    "def my_range(start, stop, step=1):\n",
    "    \n",
    "    while start < stop:\n",
    "        yield start #when we return we end the function, a yield allows us to return something without shutting down the function\n",
    "        start += step\n",
    "        \n",
    "        \n",
    "                    #keyword arguments \n",
    "for i in my_range(start=0, stop=10):\n",
    "    print(i)"
   ]
  },
  {
   "cell_type": "code",
   "execution_count": null,
   "metadata": {},
   "outputs": [],
   "source": [
    "# *args, **kwargs \n",
    "\n",
    "#weapon in a game club\n",
    "#decorator extennds a function without changing the actual function "
   ]
  },
  {
   "cell_type": "markdown",
   "metadata": {},
   "source": [
    "#### next() keyword\n",
    "<p>Returns next element from the list, if not present prints the default value. If default value is not present, raises the StopIteration error.</p>"
   ]
  },
  {
   "cell_type": "code",
   "execution_count": null,
   "metadata": {},
   "outputs": [],
   "source": [
    "#see below"
   ]
  },
  {
   "cell_type": "markdown",
   "metadata": {},
   "source": [
    "#### Creating a Generator Object\n",
    "<p>The generator object will store an iterable on which we can call the next() method.</p>"
   ]
  },
  {
   "cell_type": "code",
   "execution_count": 20,
   "metadata": {},
   "outputs": [],
   "source": [
    "my_generator_object = my_range(0, 10, 2)"
   ]
  },
  {
   "cell_type": "code",
   "execution_count": 19,
   "metadata": {},
   "outputs": [
    {
     "ename": "StopIteration",
     "evalue": "",
     "output_type": "error",
     "traceback": [
      "\u001b[0;31m---------------------------------------------------------------------------\u001b[0m",
      "\u001b[0;31mStopIteration\u001b[0m                             Traceback (most recent call last)",
      "Cell \u001b[0;32mIn[19], line 3\u001b[0m\n\u001b[1;32m      1\u001b[0m \u001b[38;5;66;03m#we can use the next() function to iterate through our generator object & bring back a new bit of data each time\u001b[39;00m\n\u001b[0;32m----> 3\u001b[0m \u001b[38;5;28;43mnext\u001b[39;49m\u001b[43m(\u001b[49m\u001b[43mmy_generator_object\u001b[49m\u001b[43m)\u001b[49m\n",
      "\u001b[0;31mStopIteration\u001b[0m: "
     ]
    }
   ],
   "source": [
    "#we can use the next() function to iterate through our generator object & bring back a new bit of data each time\n",
    "\n",
    "next(my_generator_object)"
   ]
  },
  {
   "cell_type": "markdown",
   "metadata": {},
   "source": [
    "<p>Use try and except to print graceful message instead of the StopIteration error:"
   ]
  },
  {
   "cell_type": "code",
   "execution_count": 26,
   "metadata": {},
   "outputs": [
    {
     "name": "stdout",
     "output_type": "stream",
     "text": [
      "No more numbers in list\n"
     ]
    }
   ],
   "source": [
    "try:\n",
    "    print(next(my_generator_object))\n",
    "except:\n",
    "    print(\"No more numbers in list\")"
   ]
  },
  {
   "cell_type": "code",
   "execution_count": null,
   "metadata": {},
   "outputs": [],
   "source": []
  },
  {
   "cell_type": "code",
   "execution_count": null,
   "metadata": {},
   "outputs": [],
   "source": []
  },
  {
   "cell_type": "markdown",
   "metadata": {},
   "source": [
    "#### In-Class Exercise #6 <br>\n",
    "<p>Create a generator that takes a number argument and yields that number squared, then prints each number squared until zero is reached.</p>"
   ]
  },
  {
   "cell_type": "code",
   "execution_count": 52,
   "metadata": {},
   "outputs": [],
   "source": [
    "def square_num(num):\n",
    "    while num > 0:\n",
    "        yield num **2\n",
    "        print(num**2)\n",
    "        num -= 1\n",
    "\n",
    "generator_object = square_num(6)\n",
    "\n",
    "# for item in generator_object:\n",
    "#     item\n",
    "\n",
    "\n",
    "# print(\"done\")"
   ]
  },
  {
   "cell_type": "code",
   "execution_count": 59,
   "metadata": {},
   "outputs": [
    {
     "name": "stdout",
     "output_type": "stream",
     "text": [
      "1\n",
      "Outta numbers brah\n"
     ]
    }
   ],
   "source": [
    "try:\n",
    "    print(next(generator_object))\n",
    "    \n",
    "except:\n",
    "    print(\"Outta numbers brah\")"
   ]
  },
  {
   "cell_type": "markdown",
   "metadata": {},
   "source": [
    "# Exercises"
   ]
  },
  {
   "cell_type": "markdown",
   "metadata": {},
   "source": [
    "### Exercise #1 <br>\n",
    "<p>Filter out all of the empty strings from the list below</p>\n",
    "\n",
    "`Output: ['Argentina', 'San Diego', 'Boston', 'New York']`"
   ]
  },
  {
   "cell_type": "code",
   "execution_count": null,
   "metadata": {},
   "outputs": [],
   "source": [
    "places = [\" \",\"Argentina\", \" \", \"San Diego\",\"\",\"  \",\"\",\"Boston\",\"New York\"]\n",
    "\n"
   ]
  },
  {
   "cell_type": "markdown",
   "metadata": {},
   "source": [
    "### Exercise #2 <br>\n",
    "<p>Write an anonymous function that sorts this list by the last name...<br><b>Hint: Use the \".sort()\" method and access the key\"</b></p>\n",
    "\n",
    "`Output: ['Victor aNisimov', 'Gary A.J. Bernstein', 'Joel Carter', 'Andrew P. Garfield', 'David hassELHOFF']`"
   ]
  },
  {
   "cell_type": "code",
   "execution_count": null,
   "metadata": {},
   "outputs": [],
   "source": [
    "author = [\"Joel Carter\", \"Victor aNisimov\", \"Andrew P. Garfield\",\"David hassELHOFF\",\"Gary A.J. Bernstein\"]\n",
    "\n"
   ]
  },
  {
   "cell_type": "markdown",
   "metadata": {},
   "source": [
    "### Exercise #3 <br>\n",
    "<p>Convert the list below from Celsius to Farhenheit, using the map function with a lambda...</p>\n",
    "\n",
    "`Output: [('Nashua', 89.6), ('Boston', 53.6), ('Los Angelos', 111.2), ('Miami', 84.2)]\n",
    "`"
   ]
  },
  {
   "cell_type": "code",
   "execution_count": null,
   "metadata": {},
   "outputs": [],
   "source": [
    "# F = (9/5)*C + 32\n",
    "places = [('Nashua',32),(\"Boston\",12),(\"Los Angelos\",44),(\"Miami\",29)]\n"
   ]
  },
  {
   "cell_type": "markdown",
   "metadata": {},
   "source": [
    "### Exercise #4 <br>\n",
    "<p>Create a generator function that individually returns each movie genre back from the list</p>\n",
    "\n",
    "\n"
   ]
  },
  {
   "cell_type": "code",
   "execution_count": null,
   "metadata": {
    "scrolled": true
   },
   "outputs": [],
   "source": [
    "genres = [\"adventure\", \"drama\", \"horror\", \"comedy\", \"action\", \"romance\"]\n",
    "\n"
   ]
  },
  {
   "cell_type": "code",
   "execution_count": null,
   "metadata": {},
   "outputs": [],
   "source": []
  }
 ],
 "metadata": {
  "kernelspec": {
   "display_name": "Python 3 (ipykernel)",
   "language": "python",
   "name": "python3"
  },
  "language_info": {
   "codemirror_mode": {
    "name": "ipython",
    "version": 3
   },
   "file_extension": ".py",
   "mimetype": "text/x-python",
   "name": "python",
   "nbconvert_exporter": "python",
   "pygments_lexer": "ipython3",
   "version": "3.10.9"
  }
 },
 "nbformat": 4,
 "nbformat_minor": 2
}
